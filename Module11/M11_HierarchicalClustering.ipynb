{
 "cells": [
  {
   "cell_type": "markdown",
   "metadata": {},
   "source": [
    "# Module 11 In-Class Exercises: Hierarchical Clustering"
   ]
  },
  {
   "cell_type": "markdown",
   "metadata": {},
   "source": [
    "### In this exerices, we are going to conudct hierarchical clustering analysis using scipy cluster hierarchical package.\n"
   ]
  },
  {
   "cell_type": "code",
   "execution_count": 2,
   "metadata": {},
   "outputs": [],
   "source": [
    "# import required packages for this chapter\n",
    "\n",
    "import pandas as pd\n",
    "import numpy as np\n",
    "import matplotlib.pylab as plt\n",
    "from scipy.cluster.hierarchy import linkage, dendrogram, fcluster\n"
   ]
  },
  {
   "cell_type": "markdown",
   "metadata": {},
   "source": [
    "## University Rankings\n"
   ]
  },
  {
   "cell_type": "markdown",
   "metadata": {},
   "source": [
    "The dataset on American College and University Rankings (available from www.dataminingbook.com) contains information on 1302 American colleges and universities offering an undergraduate program. For each university, there are 17 measurements, including continuous measurements (such as tuition and graduation rate) and categorical measurements (such as location by state and whether it is a private or public school).\n",
    "\n",
    "Note that many records are missing some measurements. Our first goal is to estimate these missing values from \"similar\" records. This will be done by clustering the complete records and then finding the closest cluster for each of the partial records. The missing values will be imputed from the information in that cluster."
   ]
  },
  {
   "cell_type": "code",
   "execution_count": 3,
   "metadata": {},
   "outputs": [
    {
     "name": "stdout",
     "output_type": "stream",
     "text": [
      "                        College Name State  Public (1)/ Private (2)  \\\n",
      "0          Alaska Pacific University    AK                        2   \n",
      "1  University of Alaska at Fairbanks    AK                        1   \n",
      "2     University of Alaska Southeast    AK                        1   \n",
      "3  University of Alaska at Anchorage    AK                        1   \n",
      "4        Alabama Agri. & Mech. Univ.    AL                        1   \n",
      "\n",
      "   # appli. rec'd  # appl. accepted  # new stud. enrolled  \\\n",
      "0           193.0             146.0                  55.0   \n",
      "1          1852.0            1427.0                 928.0   \n",
      "2           146.0             117.0                  89.0   \n",
      "3          2065.0            1598.0                1162.0   \n",
      "4          2817.0            1920.0                 984.0   \n",
      "\n",
      "   % new stud. from top 10%  % new stud. from top 25%  # FT undergrad  \\\n",
      "0                      16.0                      44.0           249.0   \n",
      "1                       NaN                       NaN          3885.0   \n",
      "2                       4.0                      24.0           492.0   \n",
      "3                       NaN                       NaN          6209.0   \n",
      "4                       NaN                       NaN          3958.0   \n",
      "\n",
      "   # PT undergrad  in-state tuition  out-of-state tuition    room   board  \\\n",
      "0           869.0            7560.0                7560.0  1620.0  2500.0   \n",
      "1          4519.0            1742.0                5226.0  1800.0  1790.0   \n",
      "2          1849.0            1742.0                5226.0  2514.0  2250.0   \n",
      "3         10537.0            1742.0                5226.0  2600.0  2520.0   \n",
      "4           305.0            1700.0                3400.0  1108.0  1442.0   \n",
      "\n",
      "   add. fees  estim. book costs  estim. personal $  % fac. w/PHD  \\\n",
      "0      130.0              800.0             1500.0          76.0   \n",
      "1      155.0              650.0             2304.0          67.0   \n",
      "2       34.0              500.0             1162.0          39.0   \n",
      "3      114.0              580.0             1260.0          48.0   \n",
      "4      155.0              500.0              850.0          53.0   \n",
      "\n",
      "   stud./fac. ratio  Graduation rate  \n",
      "0              11.9             15.0  \n",
      "1              10.0              NaN  \n",
      "2               9.5             39.0  \n",
      "3              13.7              NaN  \n",
      "4              14.3             40.0  \n",
      "(1302, 20)\n"
     ]
    }
   ],
   "source": [
    "# Load the university data\n",
    "# Let’s begin by loading the data into a pandas DataFrame named univ. Print passengers and inspect the columns.\n",
    "univ_df=pd.read_csv(\"C:/Users/erwin/Desktop/MIS536/Module11/universities.csv\")\n",
    "\n",
    "print(univ_df.head())\n",
    "print(univ_df.shape)\n"
   ]
  },
  {
   "cell_type": "code",
   "execution_count": 9,
   "metadata": {},
   "outputs": [
    {
     "name": "stdout",
     "output_type": "stream",
     "text": [
      "Before:   (1302, 20)\n",
      "After:  (471, 20)\n"
     ]
    }
   ],
   "source": [
    "# drop missing values\n",
    "print('Before:  ',  univ_df.shape)\n",
    "\n",
    "universities_df=univ_df.dropna(axis=0)\n",
    "print('After: ', universities_df.shape)"
   ]
  },
  {
   "cell_type": "markdown",
   "metadata": {},
   "source": [
    "For all the continuous measurements, run hierarchical clustering using complete linkage and Euclidean distance. Make sure to normalize the measurements. From the dendrogram: How many clusters seem reasonable for describing these data?\n"
   ]
  },
  {
   "cell_type": "code",
   "execution_count": 11,
   "metadata": {},
   "outputs": [
    {
     "data": {
      "image/png": "[encoded data removed]",
      "text/plain": [
       "<Figure size 720x432 with 1 Axes>"
      ]
     },
     "metadata": {
      "needs_background": "light"
     },
     "output_type": "display_data"
    }
   ],
   "source": [
    "# Reduce to continuous measurements and normalize data\n",
    "\n",
    "reduced_df=universities_df.drop(columns=['College Name','State','Public (1)/ Private (2)'])\n",
    "universities_norm=(reduced_df - reduced_df.mean())/reduced_df.std()  #normalize data by taking the data subtracting the data's mean & dividing it by the data's standard deviation\n",
    "\n",
    "# Hierarchical clustering using complete linkage and Euclidean distance\n",
    "\n",
    "Z=linkage(universities_norm, method='complete', metric='euclidean')\n",
    "\n",
    "fig=plt.figure(figsize=(10,6))\n",
    "dendrogram(Z,no_labels=True, color_threshold=55)\n",
    "plt.show()\n",
    "\n",
    "\n",
    "\n"
   ]
  },
  {
   "cell_type": "code",
   "execution_count": 14,
   "metadata": {},
   "outputs": [
    {
     "data": {
      "text/plain": [
       "(array([1, 2], dtype=int32), array([458,  13], dtype=int64))"
      ]
     },
     "execution_count": 14,
     "metadata": {},
     "output_type": "execute_result"
    }
   ],
   "source": [
    "# try splitting into different number of clusters\n",
    "\n",
    "memb=fcluster(Z, 2, criterion='maxclust')\n",
    "np.unique(memb, return_counts=True)"
   ]
  },
  {
   "cell_type": "code",
   "execution_count": 16,
   "metadata": {},
   "outputs": [
    {
     "data": {
      "text/plain": [
       "(array([1, 2, 3, 4], dtype=int32), array([457,   1,  12,   1], dtype=int64))"
      ]
     },
     "execution_count": 16,
     "metadata": {},
     "output_type": "execute_result"
    }
   ],
   "source": [
    "np.unique(fcluster(Z, 4, criterion='maxclust'), return_counts=True)"
   ]
  },
  {
   "cell_type": "markdown",
   "metadata": {},
   "source": [
    "If we select #clusters = 2, we have on big cluster and one small cluster.\n",
    "Looking at the same dendrogram, we see that 4 clusters is also a possibility,\n",
    "on similar grounds. The following analysis is for 2 clusters, but a similar \n",
    "analysis could be conducted for different number of clusters.\n"
   ]
  },
  {
   "cell_type": "markdown",
   "metadata": {},
   "source": [
    "Compare the summary statistics for each cluster and describe each cluster in this context (e.g., \"Universities with high tuition, low acceptance rate...\").  (_Hint_: To obtain cluster statistics for hierarchical clustering, use the pandas method _groupby(clusterlabel)_ together with methods such as _mean_ or _median_.) \n"
   ]
  },
  {
   "cell_type": "code",
   "execution_count": 17,
   "metadata": {},
   "outputs": [
    {
     "data": {
      "text/html": [
       "<div>\n",
       "<style scoped>\n",
       "    .dataframe tbody tr th:only-of-type {\n",
       "        vertical-align: middle;\n",
       "    }\n",
       "\n",
       "    .dataframe tbody tr th {\n",
       "        vertical-align: top;\n",
       "    }\n",
       "\n",
       "    .dataframe thead th {\n",
       "        text-align: right;\n",
       "    }\n",
       "</style>\n",
       "<table border=\"1\" class=\"dataframe\">\n",
       "  <thead>\n",
       "    <tr style=\"text-align: right;\">\n",
       "      <th></th>\n",
       "      <th>Cluster 1</th>\n",
       "      <th>Cluster 2</th>\n",
       "    </tr>\n",
       "  </thead>\n",
       "  <tbody>\n",
       "    <tr>\n",
       "      <th># appli. rec'd</th>\n",
       "      <td>2747.43</td>\n",
       "      <td>17235.23</td>\n",
       "    </tr>\n",
       "    <tr>\n",
       "      <th># appl. accepted</th>\n",
       "      <td>1790.03</td>\n",
       "      <td>11678.38</td>\n",
       "    </tr>\n",
       "    <tr>\n",
       "      <th># new stud. enrolled</th>\n",
       "      <td>683.45</td>\n",
       "      <td>4207.00</td>\n",
       "    </tr>\n",
       "    <tr>\n",
       "      <th>% new stud. from top 10%</th>\n",
       "      <td>27.81</td>\n",
       "      <td>35.15</td>\n",
       "    </tr>\n",
       "    <tr>\n",
       "      <th>% new stud. from top 25%</th>\n",
       "      <td>55.27</td>\n",
       "      <td>69.08</td>\n",
       "    </tr>\n",
       "    <tr>\n",
       "      <th># FT undergrad</th>\n",
       "      <td>3078.83</td>\n",
       "      <td>20618.54</td>\n",
       "    </tr>\n",
       "    <tr>\n",
       "      <th># PT undergrad</th>\n",
       "      <td>684.05</td>\n",
       "      <td>4792.69</td>\n",
       "    </tr>\n",
       "    <tr>\n",
       "      <th>in-state tuition</th>\n",
       "      <td>9480.30</td>\n",
       "      <td>6811.38</td>\n",
       "    </tr>\n",
       "    <tr>\n",
       "      <th>out-of-state tuition</th>\n",
       "      <td>10579.12</td>\n",
       "      <td>10435.54</td>\n",
       "    </tr>\n",
       "    <tr>\n",
       "      <th>room</th>\n",
       "      <td>2214.19</td>\n",
       "      <td>2464.85</td>\n",
       "    </tr>\n",
       "    <tr>\n",
       "      <th>board</th>\n",
       "      <td>2113.93</td>\n",
       "      <td>2404.31</td>\n",
       "    </tr>\n",
       "    <tr>\n",
       "      <th>add. fees</th>\n",
       "      <td>369.67</td>\n",
       "      <td>708.38</td>\n",
       "    </tr>\n",
       "    <tr>\n",
       "      <th>estim. book costs</th>\n",
       "      <td>547.77</td>\n",
       "      <td>584.62</td>\n",
       "    </tr>\n",
       "    <tr>\n",
       "      <th>estim. personal $</th>\n",
       "      <td>1294.43</td>\n",
       "      <td>1928.77</td>\n",
       "    </tr>\n",
       "    <tr>\n",
       "      <th>% fac. w/PHD</th>\n",
       "      <td>72.86</td>\n",
       "      <td>85.38</td>\n",
       "    </tr>\n",
       "    <tr>\n",
       "      <th>stud./fac. ratio</th>\n",
       "      <td>13.91</td>\n",
       "      <td>15.98</td>\n",
       "    </tr>\n",
       "    <tr>\n",
       "      <th>Graduation rate</th>\n",
       "      <td>65.59</td>\n",
       "      <td>64.69</td>\n",
       "    </tr>\n",
       "  </tbody>\n",
       "</table>\n",
       "</div>"
      ],
      "text/plain": [
       "                          Cluster 1  Cluster 2\n",
       "# appli. rec'd              2747.43   17235.23\n",
       "# appl. accepted            1790.03   11678.38\n",
       "# new stud. enrolled         683.45    4207.00\n",
       "% new stud. from top 10%      27.81      35.15\n",
       "% new stud. from top 25%      55.27      69.08\n",
       "# FT undergrad              3078.83   20618.54\n",
       "# PT undergrad               684.05    4792.69\n",
       "in-state tuition            9480.30    6811.38\n",
       "out-of-state tuition       10579.12   10435.54\n",
       "room                        2214.19    2464.85\n",
       "board                       2113.93    2404.31\n",
       "add. fees                    369.67     708.38\n",
       "estim. book costs            547.77     584.62\n",
       "estim. personal $           1294.43    1928.77\n",
       "% fac. w/PHD                  72.86      85.38\n",
       "stud./fac. ratio              13.91      15.98\n",
       "Graduation rate               65.59      64.69"
      ]
     },
     "execution_count": 17,
     "metadata": {},
     "output_type": "execute_result"
    }
   ],
   "source": [
    "centroids={}\n",
    "\n",
    "for key, item in reduced_df.groupby(memb):\n",
    "    centroids['Cluster {}'.format(key)]=item.mean()\n",
    "    \n",
    "pd.DataFrame(centroids).round(2)\n"
   ]
  },
  {
   "cell_type": "code",
   "execution_count": null,
   "metadata": {},
   "outputs": [],
   "source": []
  }
 ],
 "metadata": {
  "kernelspec": {
   "display_name": "Python 3 (ipykernel)",
   "language": "python",
   "name": "python3"
  },
  "language_info": {
   "codemirror_mode": {
    "name": "ipython",
    "version": 3
   },
   "file_extension": ".py",
   "mimetype": "text/x-python",
   "name": "python",
   "nbconvert_exporter": "python",
   "pygments_lexer": "ipython3",
   "version": "3.9.12"
  }
 },
 "nbformat": 4,
 "nbformat_minor": 4
}
