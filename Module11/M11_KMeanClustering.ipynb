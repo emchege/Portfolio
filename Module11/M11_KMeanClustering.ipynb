{
 "cells": [
  {
   "cell_type": "markdown",
   "metadata": {},
   "source": [
    "# Module 11 In-Class Exercises: K-Mean Clustering"
   ]
  },
  {
   "cell_type": "markdown",
   "metadata": {},
   "source": [
    "### In this exerices, we are going to conudct hierarchical clustering analysis sklearn cluster Kmeans package.\n"
   ]
  },
  {
   "cell_type": "code",
   "execution_count": 2,
   "metadata": {},
   "outputs": [],
   "source": [
    "# import required packages for this chapter\n",
    "\n",
    "import pandas as pd\n",
    "import numpy as np\n",
    "import matplotlib.pylab as plt\n",
    "from sklearn import preprocessing\n",
    "from sklearn.cluster import KMeans\n",
    "\n",
    "\n"
   ]
  },
  {
   "cell_type": "markdown",
   "metadata": {},
   "source": [
    "## Pharmaceutical Industry\n",
    "An equities analyst is studying the pharmaceutical industry and would like your help in exploring and\n",
    "understanding the financial data collected by her firm. Her main objective is to understand the structure of the pharmaceutical industry using some basic financial measures.\n",
    "\n",
    "Financial data gathered on 21 firms in the pharmaceutical industry are available in the file _pharmaceuticals.csv_. For each firm, the following variables are recorded:\n",
    "\n",
    "1. Market capitalization (in billions of dollars)\n",
    "2. Beta\n",
    "3. Price/earnings ratio\n",
    "4. Return on equity\n",
    "5. Return on assets\n",
    "6. Asset turnover\n",
    "7. Leverage\n",
    "8. Estimated revenue growth\n",
    "9. Net profit margin\n",
    "10. Median recommendation (across major brokerages)\n",
    "11. Location of firm's headquarters\n",
    "12. Stock exchange on which the firm is listed\n",
    "\n",
    "Use only the numerical variables (1-9) to cluster the 21 firms.\n"
   ]
  },
  {
   "cell_type": "code",
   "execution_count": 3,
   "metadata": {},
   "outputs": [
    {
     "data": {
      "text/html": [
       "<div>\n",
       "<style scoped>\n",
       "    .dataframe tbody tr th:only-of-type {\n",
       "        vertical-align: middle;\n",
       "    }\n",
       "\n",
       "    .dataframe tbody tr th {\n",
       "        vertical-align: top;\n",
       "    }\n",
       "\n",
       "    .dataframe thead th {\n",
       "        text-align: right;\n",
       "    }\n",
       "</style>\n",
       "<table border=\"1\" class=\"dataframe\">\n",
       "  <thead>\n",
       "    <tr style=\"text-align: right;\">\n",
       "      <th></th>\n",
       "      <th>Name</th>\n",
       "      <th>Market_Cap</th>\n",
       "      <th>Beta</th>\n",
       "      <th>PE_Ratio</th>\n",
       "      <th>ROE</th>\n",
       "      <th>ROA</th>\n",
       "      <th>Asset_Turnover</th>\n",
       "      <th>Leverage</th>\n",
       "      <th>Rev_Growth</th>\n",
       "      <th>Net_Profit_Margin</th>\n",
       "      <th>Median_Recommendation</th>\n",
       "      <th>Location</th>\n",
       "      <th>Exchange</th>\n",
       "    </tr>\n",
       "    <tr>\n",
       "      <th>Symbol</th>\n",
       "      <th></th>\n",
       "      <th></th>\n",
       "      <th></th>\n",
       "      <th></th>\n",
       "      <th></th>\n",
       "      <th></th>\n",
       "      <th></th>\n",
       "      <th></th>\n",
       "      <th></th>\n",
       "      <th></th>\n",
       "      <th></th>\n",
       "      <th></th>\n",
       "      <th></th>\n",
       "    </tr>\n",
       "  </thead>\n",
       "  <tbody>\n",
       "    <tr>\n",
       "      <th>ABT</th>\n",
       "      <td>Abbott Laboratories</td>\n",
       "      <td>68.44</td>\n",
       "      <td>0.32</td>\n",
       "      <td>24.7</td>\n",
       "      <td>26.4</td>\n",
       "      <td>11.8</td>\n",
       "      <td>0.7</td>\n",
       "      <td>0.42</td>\n",
       "      <td>7.54</td>\n",
       "      <td>16.1</td>\n",
       "      <td>Moderate Buy</td>\n",
       "      <td>US</td>\n",
       "      <td>NYSE</td>\n",
       "    </tr>\n",
       "    <tr>\n",
       "      <th>AGN</th>\n",
       "      <td>Allergan, Inc.</td>\n",
       "      <td>7.58</td>\n",
       "      <td>0.41</td>\n",
       "      <td>82.5</td>\n",
       "      <td>12.9</td>\n",
       "      <td>5.5</td>\n",
       "      <td>0.9</td>\n",
       "      <td>0.60</td>\n",
       "      <td>9.16</td>\n",
       "      <td>5.5</td>\n",
       "      <td>Moderate Buy</td>\n",
       "      <td>CANADA</td>\n",
       "      <td>NYSE</td>\n",
       "    </tr>\n",
       "    <tr>\n",
       "      <th>AHM</th>\n",
       "      <td>Amersham plc</td>\n",
       "      <td>6.30</td>\n",
       "      <td>0.46</td>\n",
       "      <td>20.7</td>\n",
       "      <td>14.9</td>\n",
       "      <td>7.8</td>\n",
       "      <td>0.9</td>\n",
       "      <td>0.27</td>\n",
       "      <td>7.05</td>\n",
       "      <td>11.2</td>\n",
       "      <td>Strong Buy</td>\n",
       "      <td>UK</td>\n",
       "      <td>NYSE</td>\n",
       "    </tr>\n",
       "    <tr>\n",
       "      <th>AZN</th>\n",
       "      <td>AstraZeneca PLC</td>\n",
       "      <td>67.63</td>\n",
       "      <td>0.52</td>\n",
       "      <td>21.5</td>\n",
       "      <td>27.4</td>\n",
       "      <td>15.4</td>\n",
       "      <td>0.9</td>\n",
       "      <td>0.00</td>\n",
       "      <td>15.00</td>\n",
       "      <td>18.0</td>\n",
       "      <td>Moderate Sell</td>\n",
       "      <td>UK</td>\n",
       "      <td>NYSE</td>\n",
       "    </tr>\n",
       "    <tr>\n",
       "      <th>AVE</th>\n",
       "      <td>Aventis</td>\n",
       "      <td>47.16</td>\n",
       "      <td>0.32</td>\n",
       "      <td>20.1</td>\n",
       "      <td>21.8</td>\n",
       "      <td>7.5</td>\n",
       "      <td>0.6</td>\n",
       "      <td>0.34</td>\n",
       "      <td>26.81</td>\n",
       "      <td>12.9</td>\n",
       "      <td>Moderate Buy</td>\n",
       "      <td>FRANCE</td>\n",
       "      <td>NYSE</td>\n",
       "    </tr>\n",
       "  </tbody>\n",
       "</table>\n",
       "</div>"
      ],
      "text/plain": [
       "                       Name  Market_Cap  Beta  PE_Ratio   ROE   ROA  \\\n",
       "Symbol                                                                \n",
       "ABT     Abbott Laboratories       68.44  0.32      24.7  26.4  11.8   \n",
       "AGN          Allergan, Inc.        7.58  0.41      82.5  12.9   5.5   \n",
       "AHM            Amersham plc        6.30  0.46      20.7  14.9   7.8   \n",
       "AZN         AstraZeneca PLC       67.63  0.52      21.5  27.4  15.4   \n",
       "AVE                 Aventis       47.16  0.32      20.1  21.8   7.5   \n",
       "\n",
       "        Asset_Turnover  Leverage  Rev_Growth  Net_Profit_Margin  \\\n",
       "Symbol                                                            \n",
       "ABT                0.7      0.42        7.54               16.1   \n",
       "AGN                0.9      0.60        9.16                5.5   \n",
       "AHM                0.9      0.27        7.05               11.2   \n",
       "AZN                0.9      0.00       15.00               18.0   \n",
       "AVE                0.6      0.34       26.81               12.9   \n",
       "\n",
       "       Median_Recommendation Location Exchange  \n",
       "Symbol                                          \n",
       "ABT             Moderate Buy       US     NYSE  \n",
       "AGN             Moderate Buy   CANADA     NYSE  \n",
       "AHM               Strong Buy       UK     NYSE  \n",
       "AZN            Moderate Sell       UK     NYSE  \n",
       "AVE             Moderate Buy   FRANCE     NYSE  "
      ]
     },
     "execution_count": 3,
     "metadata": {},
     "output_type": "execute_result"
    }
   ],
   "source": [
    "# Load data, use the column Company as row names\n",
    "pharma_df=pd.read_csv(\"C:/Users/erwin/Desktop/MIS536/Module11/pharmaceuticals.csv\")\n",
    "pharma_df.set_index('Symbol', inplace = True) #replacing a numbered index with the 1st column in dataset, \"Symbol\"\n",
    "pharma_df.head()\n"
   ]
  },
  {
   "cell_type": "code",
   "execution_count": 5,
   "metadata": {},
   "outputs": [
    {
     "name": "stdout",
     "output_type": "stream",
     "text": [
      "        Market_Cap  Beta  PE_Ratio   ROE   ROA  Asset_Turnover  Leverage  \\\n",
      "Symbol                                                                     \n",
      "ABT          68.44  0.32      24.7  26.4  11.8             0.7      0.42   \n",
      "AGN           7.58  0.41      82.5  12.9   5.5             0.9      0.60   \n",
      "AHM           6.30  0.46      20.7  14.9   7.8             0.9      0.27   \n",
      "AZN          67.63  0.52      21.5  27.4  15.4             0.9      0.00   \n",
      "AVE          47.16  0.32      20.1  21.8   7.5             0.6      0.34   \n",
      "BAY          16.90  1.11      27.9   3.9   1.4             0.6      0.00   \n",
      "BMY          51.33  0.50      13.9  34.8  15.1             0.9      0.57   \n",
      "CHTT          0.41  0.85      26.0  24.1   4.3             0.6      3.51   \n",
      "ELN           0.78  1.08       3.6  15.1   5.1             0.3      1.07   \n",
      "LLY          73.84  0.18      27.9  31.0  13.5             0.6      0.53   \n",
      "GSK         122.11  0.35      18.0  62.9  20.3             1.0      0.34   \n",
      "IVX           2.60  0.65      19.9  21.4   6.8             0.6      1.45   \n",
      "JNJ         173.93  0.46      28.4  28.6  16.3             0.9      0.10   \n",
      "MRX           1.20  0.75      28.6  11.2   5.4             0.3      0.93   \n",
      "MRK         132.56  0.46      18.9  40.6  15.0             1.1      0.28   \n",
      "NVS          96.65  0.19      21.6  17.9  11.2             0.5      0.06   \n",
      "PFE         199.47  0.65      23.6  45.6  19.2             0.8      0.16   \n",
      "PHA          56.24  0.40      56.5  13.5   5.7             0.6      0.35   \n",
      "SGP          34.10  0.51      18.9  22.6  13.3             0.8      0.00   \n",
      "WPI           3.26  0.24      18.4  10.2   6.8             0.5      0.20   \n",
      "WYE          48.19  0.63      13.1  54.9  13.4             0.6      1.12   \n",
      "\n",
      "        Rev_Growth  Net_Profit_Margin  \n",
      "Symbol                                 \n",
      "ABT           7.54               16.1  \n",
      "AGN           9.16                5.5  \n",
      "AHM           7.05               11.2  \n",
      "AZN          15.00               18.0  \n",
      "AVE          26.81               12.9  \n",
      "BAY          -3.17                2.6  \n",
      "BMY           2.70               20.6  \n",
      "CHTT          6.38                7.5  \n",
      "ELN          34.21               13.3  \n",
      "LLY           6.21               23.4  \n",
      "GSK          21.87               21.1  \n",
      "IVX          13.99               11.0  \n",
      "JNJ           9.37               17.9  \n",
      "MRX          30.37               21.3  \n",
      "MRK          17.35               14.1  \n",
      "NVS          -2.69               22.4  \n",
      "PFE          25.54               25.2  \n",
      "PHA          15.00                7.3  \n",
      "SGP           8.56               17.6  \n",
      "WPI          29.18               15.1  \n",
      "WYE           0.36               25.5  \n"
     ]
    }
   ],
   "source": [
    "# Use only the numerical variables (1-9) to cluster the 21 firms.\n",
    "# Drop unused varaibles\n",
    "\n",
    "pharma_data = pharma_df.drop(columns=[\"Name\",  \"Median_Recommendation\", \"Location\", \"Exchange\"]) #we're not  dropping symbol because earlier we made it the index. It's not part of the data anymore\n",
    "print(pharma_data)"
   ]
  },
  {
   "cell_type": "code",
   "execution_count": 7,
   "metadata": {},
   "outputs": [
    {
     "name": "stdout",
     "output_type": "stream",
     "text": [
      "        Market_Cap      Beta  PE_Ratio       ROE       ROA  Asset_Turnover  \\\n",
      "Symbol                                                                       \n",
      "ABT       0.188642 -0.821041 -0.047867  0.041080  0.247579   -5.247542e-16   \n",
      "AGN      -0.875518 -0.461835  3.583430 -0.875950 -0.965557    9.453132e-01   \n",
      "AHM      -0.897899 -0.262277 -0.299168 -0.740094 -0.522666    9.453132e-01   \n",
      "AZN       0.174479 -0.022807 -0.248907  0.109009  0.940799    9.453132e-01   \n",
      "AVE      -0.183447 -0.821041 -0.336863 -0.271389 -0.580435   -4.726566e-01   \n",
      "\n",
      "        Leverage  Rev_Growth  Net_Profit_Margin  \n",
      "Symbol                                           \n",
      "ABT    -0.217336   -0.540801           0.063205  \n",
      "AGN     0.018736   -0.390551          -1.592035  \n",
      "AHM    -0.414062   -0.586247          -0.701953  \n",
      "AZN    -0.768169    0.151089           0.359900  \n",
      "AVE    -0.322256    1.246425          -0.436490  \n"
     ]
    }
   ],
   "source": [
    "# Normalize: normalization gives the same importance to all the variables and so is important for distance calculations.\n",
    "\n",
    "\n",
    "pharma_norm=pharma_data.apply(preprocessing.scale, axis = 0) #axis = 0  is the default for preprocessing\n",
    "print(pharma_norm.head()) #for the entire dataset, mean is now 0 & std.dev is 1"
   ]
  },
  {
   "cell_type": "code",
   "execution_count": 10,
   "metadata": {},
   "outputs": [
    {
     "name": "stderr",
     "output_type": "stream",
     "text": [
      "C:\\Users\\erwin\\anaconda3\\lib\\site-packages\\sklearn\\cluster\\_kmeans.py:1036: UserWarning: KMeans is known to have a memory leak on Windows with MKL, when there are less chunks than available threads. You can avoid it by setting the environment variable OMP_NUM_THREADS=1.\n",
      "  warnings.warn(\n"
     ]
    },
    {
     "data": {
      "image/png": "[encoded data removed]",
      "text/plain": [
       "<Figure size 432x288 with 1 Axes>"
      ]
     },
     "metadata": {
      "needs_background": "light"
     },
     "output_type": "display_data"
    }
   ],
   "source": [
    "# k-means clustering\n",
    "\n",
    "inertia = []\n",
    "\n",
    "for k in range(1,10):\n",
    "    kmeans=KMeans(n_clusters=k, random_state=1).fit(pharma_norm)\n",
    "    inertia.append(kmeans.inertia_/k)\n",
    "\n",
    "inertias=pd.DataFrame({'n_clusters': range(1,10), 'inertia':inertia})\n",
    "ax=inertias.plot(x='n_clusters', y='inertia')\n",
    "plt.xlabel(\"Number of clusters(k)\")\n",
    "plt.ylabel('Average Within - Cluster Squared Distance (Inertia)')\n",
    "plt.ylim((0,1.1*inertias.inertia.max()))\n",
    "ax.legend().set_visible(False)\n",
    "plt.show()"
   ]
  },
  {
   "cell_type": "code",
   "execution_count": 14,
   "metadata": {},
   "outputs": [
    {
     "name": "stdout",
     "output_type": "stream",
     "text": [
      "[3 2 2 3 1 2 3 2 1 3 0 2 0 1 0 3 0 2 3 1 3]\n"
     ]
    }
   ],
   "source": [
    "# Three to four clusters seem to be a good choice\n",
    "\n",
    "#the at 3 or 4, there's very little significant decrease in the slope. use the elbow method to find the correct \"K\". We'll use K=4 this time.\n",
    "\n",
    "kmeans=KMeans(n_clusters=4, random_state=8).fit(pharma_norm)\n",
    "print(kmeans.predict(pharma_norm))\n",
    "#these 21 companies have now been divided into 4 clusters, from 0 - 3"
   ]
  },
  {
   "cell_type": "code",
   "execution_count": 16,
   "metadata": {},
   "outputs": [
    {
     "name": "stdout",
     "output_type": "stream",
     "text": [
      "[2]\n"
     ]
    },
    {
     "name": "stderr",
     "output_type": "stream",
     "text": [
      "C:\\Users\\erwin\\anaconda3\\lib\\site-packages\\sklearn\\base.py:450: UserWarning: X does not have valid feature names, but KMeans was fitted with feature names\n",
      "  warnings.warn(\n"
     ]
    }
   ],
   "source": [
    "#now we can see which cluster, a random new company will fit into. Just input new values for it's variables and plug it into our model\n",
    "\n",
    "newdata=[[7.58,0.3,79.67,12.9,5.5,0.9,0.3,10,5.5]]\n",
    "print(kmeans.predict(newdata))\n",
    "\n",
    "#We put the new company into a new 2-D array of data and enter it into our prediction method.  We found that this new company belongs in cluster labeled 2"
   ]
  },
  {
   "cell_type": "code",
   "execution_count": 19,
   "metadata": {},
   "outputs": [
    {
     "name": "stdout",
     "output_type": "stream",
     "text": [
      "                   Cluster1   Cluser2      Cluster3  Cluster4\n",
      "Market_Cap         1.737454 -0.778999 -7.456891e-01  0.091474\n",
      "Beta              -0.182453  0.286509  4.827414e-01 -0.473239\n",
      "PE_Ratio          -0.203359 -0.489214  8.452981e-01 -0.328785\n",
      "ROE                1.265486 -0.762170 -7.253760e-01  0.334142\n",
      "ROA                1.383690 -0.830764 -1.013697e+00  0.552926\n",
      "Asset_Turnover     1.181641 -1.299806 -3.172066e-16  0.067522\n",
      "Leverage          -0.479637  0.064639  5.826845e-01 -0.262302\n",
      "Rev_Growth         0.478716  1.555503 -4.917997e-01 -0.740868\n",
      "Net_Profit_Margin  0.605843 -0.007064 -1.277123e+00  0.752517\n"
     ]
    }
   ],
   "source": [
    "#we can print out centroid information to learn more about the clusters\n",
    "\n",
    "clusters=pd.DataFrame(kmeans.cluster_centers_.transpose(), columns=['Cluster1','Cluser2','Cluster3','Cluster4'],index=[pharma_norm.columns])\n",
    "\n",
    "print(clusters)\n"
   ]
  },
  {
   "cell_type": "code",
   "execution_count": null,
   "metadata": {},
   "outputs": [],
   "source": []
  }
 ],
 "metadata": {
  "kernelspec": {
   "display_name": "Python 3 (ipykernel)",
   "language": "python",
   "name": "python3"
  },
  "language_info": {
   "codemirror_mode": {
    "name": "ipython",
    "version": 3
   },
   "file_extension": ".py",
   "mimetype": "text/x-python",
   "name": "python",
   "nbconvert_exporter": "python",
   "pygments_lexer": "ipython3",
   "version": "3.9.12"
  }
 },
 "nbformat": 4,
 "nbformat_minor": 4
}
