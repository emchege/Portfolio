{
 "cells": [
  {
   "cell_type": "markdown",
   "metadata": {},
   "source": [
    "# Module 3 In-Class Exercises: Data Visualization"
   ]
  },
  {
   "cell_type": "markdown",
   "metadata": {},
   "source": [
    "### In this exerices, we are learning how to use visualization tools to explore data"
   ]
  },
  {
   "cell_type": "code",
   "execution_count": 16,
   "metadata": {},
   "outputs": [],
   "source": [
    "# import required packages for this chapter\n",
    "\n",
    "import pandas as pd\n",
    "import matplotlib.pylab as plt\n",
    "\n",
    "\n"
   ]
  },
  {
   "cell_type": "markdown",
   "metadata": {},
   "source": [
    "Download newlabdata.csv from Canvas.\n",
    "Use histogram to explore the data."
   ]
  },
  {
   "cell_type": "code",
   "execution_count": 17,
   "metadata": {},
   "outputs": [
    {
     "name": "stdout",
     "output_type": "stream",
     "text": [
      "    Unnamed: 0  index  subjectid gender   age   income        program status  \\\n",
      "0            0      0        101      M  19.0   5000.0  undergraduate   full   \n",
      "1            1      1        102      F  21.9  20000.0       graduate   part   \n",
      "2            2      2        103      M  21.0  16000.0       graduate   full   \n",
      "3            3      3        104      M  24.0  13000.0       graduate   full   \n",
      "4            4      4        105      F  22.0   9000.0  undergraduate   part   \n",
      "5            5      5        106      M  21.9   7000.0  undergraduate   full   \n",
      "6            6      6        107      F  23.0    500.0  undergraduate   full   \n",
      "7            7      8        109      M  20.0  15000.0  undergraduate   part   \n",
      "8            8      9        110      F  20.0   8000.0  undergraduate   full   \n",
      "9            9     10        111      M  22.0   6000.0  undergraduate   full   \n",
      "10          10     11        112      F  26.0  55000.0       graduate   part   \n",
      "11          11     14        101      M  19.0   5000.0  undergraduate   full   \n",
      "12          12     15        102      F  21.9  20000.0       graduate   part   \n",
      "13          13     16        103      M  21.0  16000.0       graduate   full   \n",
      "14          14     17        104      M  24.0  13000.0       graduate   full   \n",
      "15          15     18        105      F  22.0   9000.0  undergraduate   part   \n",
      "16          16     19        106      M  21.9   7000.0  undergraduate   full   \n",
      "17          17     20        107      F  23.0    500.0  undergraduate   full   \n",
      "18          18     22        109      M  20.0  15000.0  undergraduate   part   \n",
      "19          19     23        110      F  20.0   8000.0  undergraduate   full   \n",
      "20          20     24        111      M  22.0   6000.0  undergraduate   full   \n",
      "21          21     25        112      F  26.0  55000.0       graduate   part   \n",
      "\n",
      "        program_status  condition  score  \n",
      "0   undergraduate-full  treatment    7.2  \n",
      "1        graduate-part  treatment    8.2  \n",
      "2        graduate-full  treatment    6.2  \n",
      "3        graduate-full  treatment    3.8  \n",
      "4   undergraduate-part  treatment    7.0  \n",
      "5   undergraduate-full  treatment    8.0  \n",
      "6   undergraduate-full  treatment    9.2  \n",
      "7   undergraduate-part  treatment    4.5  \n",
      "8   undergraduate-full  treatment    8.5  \n",
      "9   undergraduate-full  treatment    6.0  \n",
      "10       graduate-part  treatment    9.0  \n",
      "11  undergraduate-full    control   12.5  \n",
      "12       graduate-part    control   14.6  \n",
      "13       graduate-full    control    8.9  \n",
      "14       graduate-full    control    6.0  \n",
      "15  undergraduate-part    control   11.3  \n",
      "16  undergraduate-full    control   14.0  \n",
      "17  undergraduate-full    control   15.6  \n",
      "18  undergraduate-part    control    8.3  \n",
      "19  undergraduate-full    control   11.5  \n",
      "20  undergraduate-full    control    9.2  \n",
      "21       graduate-part    control   18.2  \n"
     ]
    }
   ],
   "source": [
    "newlab_df = pd.read_csv(\"C:/Users/erwin/Desktop/MIS536/Module3Datasets/Module 3/newlabdata.csv\")\n",
    "print(newlab_df)"
   ]
  },
  {
   "cell_type": "code",
   "execution_count": 18,
   "metadata": {},
   "outputs": [
    {
     "data": {
      "image/png": "[encoded data removed]",
      "text/plain": [
       "<Figure size 432x288 with 1 Axes>"
      ]
     },
     "metadata": {
      "needs_background": "light"
     },
     "output_type": "display_data"
    }
   ],
   "source": [
    "#one easy way to make a histogram is to us the .hist program provided by matplot libraries\n",
    "#the two variables are the column that you're trying to graph a histogram onto, and the number of values within that column\n",
    "#in this case, the column is program and it has two possible values: graduate & undergraduate (so we set bin to 2)\n",
    "\n",
    "plt.hist(newlab_df.program, bins = 2)\n",
    "plt.hist(newlab_df.status, bins = 2)\n",
    "plt.hist(newlab_df.gender, bins = 2)\n",
    "\n",
    "plt.show() # the .show function just displays the graph you've made"
   ]
  },
  {
   "cell_type": "code",
   "execution_count": 19,
   "metadata": {},
   "outputs": [
    {
     "data": {
      "image/png": "[encoded data removed]",
      "text/plain": [
       "<Figure size 432x288 with 1 Axes>"
      ]
     },
     "metadata": {
      "needs_background": "light"
     },
     "output_type": "display_data"
    },
    {
     "data": {
      "image/png": "[encoded data removed]",
      "text/plain": [
       "<Figure size 432x288 with 1 Axes>"
      ]
     },
     "metadata": {
      "needs_background": "light"
     },
     "output_type": "display_data"
    },
    {
     "data": {
      "image/png": "[encoded data removed]",
      "text/plain": [
       "<Figure size 432x288 with 1 Axes>"
      ]
     },
     "metadata": {
      "needs_background": "light"
     },
     "output_type": "display_data"
    }
   ],
   "source": [
    "plt.hist(newlab_df.score, bins = 7)\n",
    "plt.show()\n",
    "\n",
    "#the number of bins = number of sets that the data is presented with.\n",
    "#on these plots, the bins is basically a box that certain data is put into. \n",
    "#The data for score is divided into 7 boxes, income is now in 6 boxes, and age is divided into 10 boxes\n",
    "\n",
    "plt.hist(newlab_df.income, bins = 6)\n",
    "plt.show()\n",
    "\n",
    "plt.hist(newlab_df.age, bins = 10)\n",
    "plt.show()"
   ]
  },
  {
   "cell_type": "code",
   "execution_count": 20,
   "metadata": {},
   "outputs": [
    {
     "data": {
      "image/png": "[encoded data removed]",
      "text/plain": [
       "<Figure size 432x288 with 1 Axes>"
      ]
     },
     "metadata": {
      "needs_background": "light"
     },
     "output_type": "display_data"
    }
   ],
   "source": [
    "#scatterplot takes 3 parameters: source 1, source 2, and the color of the plot\n",
    "#you're comparing the two sources to see if there is a relationship\n",
    "plt.scatter(newlab_df.condition, newlab_df.score, c = 'red')\n",
    "plt.show()\n",
    "#there are two conditions, treatment and control. the control conditions has a higher score than the treatment conditions\n",
    "\n"
   ]
  },
  {
   "cell_type": "code",
   "execution_count": 21,
   "metadata": {},
   "outputs": [
    {
     "data": {
      "image/png": "[encoded data removed]",
      "text/plain": [
       "<Figure size 432x288 with 1 Axes>"
      ]
     },
     "metadata": {
      "needs_background": "light"
     },
     "output_type": "display_data"
    }
   ],
   "source": [
    "#now we're going to introduce gender as a 3rd factor.\n",
    "\n",
    "plt.scatter(newlab_df.condition, newlab_df.score, c = ['red' if c =='F' else 'blue' for c in newlab_df.gender])\n",
    "\n",
    "#we'll introduce an if statement in the color parameter. if gender is F, color is red, otherwise color is blue\n",
    "#basically this formula, but written out using list comprehension\n",
    "\n",
    "#for i in newlab_df.gender:\n",
    " #   if c =='F':\n",
    " #       color = 'red'\n",
    " #   else:\n",
    " #       color = 'blue'\n",
    "                                                       \n",
    "plt.show()                                              "
   ]
  },
  {
   "cell_type": "code",
   "execution_count": 22,
   "metadata": {},
   "outputs": [
    {
     "data": {
      "image/png": "[encoded data removed]",
      "text/plain": [
       "<Figure size 432x288 with 1 Axes>"
      ]
     },
     "metadata": {
      "needs_background": "light"
     },
     "output_type": "display_data"
    }
   ],
   "source": [
    "#plot program as different color of dots and show relationship between condition and score. \n",
    "#this will show the relationship between condition and score for undergraduates and graduates.\n",
    "\n",
    "plt.scatter(newlab_df.condition, newlab_df.score, c = ['red' if i =='graduate' else 'blue' for i in newlab_df.program])\n",
    "plt.show()"
   ]
  },
  {
   "cell_type": "code",
   "execution_count": 23,
   "metadata": {},
   "outputs": [
    {
     "data": {
      "image/png": "[encoded data removed]",
      "text/plain": [
       "<Figure size 432x288 with 1 Axes>"
      ]
     },
     "metadata": {
      "needs_background": "light"
     },
     "output_type": "display_data"
    }
   ],
   "source": [
    "plt.scatter(newlab_df.condition, newlab_df.score, c = ['red' if i =='full' else 'blue' for i in newlab_df.status])\n",
    "plt.show()"
   ]
  },
  {
   "cell_type": "markdown",
   "metadata": {},
   "source": [
    "Download ridingmowers.csv from Canvas. \n",
    "Creat a scatter ploton on the basis of Income (in $ 1000s) and Lot Size (in 1000 ft2) showing color owners and nonowners in different colors."
   ]
  },
  {
   "cell_type": "code",
   "execution_count": 24,
   "metadata": {},
   "outputs": [
    {
     "name": "stdout",
     "output_type": "stream",
     "text": [
      "    Income  Lot_Size Ownership\n",
      "0     60.0      18.4     Owner\n",
      "1     85.5      16.8     Owner\n",
      "2     64.8      21.6     Owner\n",
      "3     61.5      20.8     Owner\n",
      "4     87.0      23.6     Owner\n",
      "5    110.1      19.2     Owner\n",
      "6    108.0      17.6     Owner\n",
      "7     82.8      22.4     Owner\n",
      "8     69.0      20.0     Owner\n",
      "9     93.0      20.8     Owner\n",
      "10    51.0      22.0     Owner\n",
      "11    81.0      20.0     Owner\n",
      "12    75.0      19.6  Nonowner\n",
      "13    52.8      20.8  Nonowner\n",
      "14    64.8      17.2  Nonowner\n",
      "15    43.2      20.4  Nonowner\n",
      "16    84.0      17.6  Nonowner\n",
      "17    49.2      17.6  Nonowner\n",
      "18    59.4      16.0  Nonowner\n",
      "19    66.0      18.4  Nonowner\n",
      "20    47.4      16.4  Nonowner\n",
      "21    33.0      18.8  Nonowner\n",
      "22    51.0      14.0  Nonowner\n",
      "23    63.0      14.8  Nonowner\n"
     ]
    },
    {
     "name": "stderr",
     "output_type": "stream",
     "text": [
      "C:\\Users\\erwin\\AppData\\Local\\Temp\\ipykernel_15112\\3014026905.py:1: FutureWarning: The squeeze argument has been deprecated and will be removed in a future version. Append .squeeze(\"columns\") to the call to squeeze.\n",
      "\n",
      "\n",
      "  mowers_df = pd.read_csv(\"C:/Users/erwin/Desktop/MIS536/Module3Datasets/Module 3/ridingmowers.csv\", squeeze = True)\n"
     ]
    }
   ],
   "source": [
    "mowers_df = pd.read_csv(\"C:/Users/erwin/Desktop/MIS536/Module3Datasets/Module 3/ridingmowers.csv\", squeeze = True)\n",
    "print(mowers_df)\n",
    "\n",
    "#squeeze, if the data frame has at least 1 column, it may be passed through as a Series instead of a Dataframe, squeeze = True to keep it from doing that."
   ]
  },
  {
   "cell_type": "code",
   "execution_count": 25,
   "metadata": {},
   "outputs": [
    {
     "data": {
      "image/png": "[encoded data removed]",
      "text/plain": [
       "<Figure size 432x288 with 1 Axes>"
      ]
     },
     "metadata": {
      "needs_background": "light"
     },
     "output_type": "display_data"
    }
   ],
   "source": [
    "plt.scatter(mowers_df.Income, mowers_df.Lot_Size, c = ['green' if i == 'Owner' else 'black' for  i in mowers_df.Ownership])\n",
    "plt.show()"
   ]
  },
  {
   "cell_type": "markdown",
   "metadata": {},
   "source": [
    "## Time Series Line Graphs"
   ]
  },
  {
   "cell_type": "markdown",
   "metadata": {},
   "source": [
    "Download the file applianceshipments.csv from Canvas. This file contains the series of quarterly shipments (in millions of dollars) of US household appliances between 1985 and 1989. \n",
    "\n",
    "Create a well-formatted time plot of the data using Python."
   ]
  },
  {
   "cell_type": "code",
   "execution_count": 26,
   "metadata": {},
   "outputs": [
    {
     "name": "stdout",
     "output_type": "stream",
     "text": [
      "(20, 2)\n",
      "    Quarter  Shipments\n",
      "0   Q1-1985       4009\n",
      "1   Q2-1985       4321\n",
      "2   Q3-1985       4224\n",
      "3   Q4-1985       3944\n",
      "4   Q1-1986       4123\n",
      "5   Q2-1986       4522\n",
      "6   Q3-1986       4657\n",
      "7   Q4-1986       4030\n",
      "8   Q1-1987       4493\n",
      "9   Q2-1987       4806\n",
      "10  Q3-1987       4551\n",
      "11  Q4-1987       4485\n",
      "12  Q1-1988       4595\n",
      "13  Q2-1988       4799\n",
      "14  Q3-1988       4417\n",
      "15  Q4-1988       4258\n",
      "16  Q1-1989       4245\n",
      "17  Q2-1989       4900\n",
      "18  Q3-1989       4585\n",
      "19  Q4-1989       4533\n"
     ]
    }
   ],
   "source": [
    "shipments_df = pd.read_csv(\"C:/Users/erwin/Desktop/MIS536/Module3Datasets/Module 3/applianceshipments.csv\")\n",
    "print(shipments_df.shape)\n",
    "print(shipments_df)\n",
    "\n",
    "#squeeze = true"
   ]
  },
  {
   "cell_type": "code",
   "execution_count": 27,
   "metadata": {},
   "outputs": [
    {
     "name": "stdout",
     "output_type": "stream",
     "text": [
      "Date\n",
      "1985-03-31    4009\n",
      "1985-06-30    4321\n",
      "1985-09-30    4224\n",
      "1985-12-31    3944\n",
      "1986-03-31    4123\n",
      "1986-06-30    4522\n",
      "1986-09-30    4657\n",
      "1986-12-31    4030\n",
      "1987-03-31    4493\n",
      "1987-06-30    4806\n",
      "1987-09-30    4551\n",
      "1987-12-31    4485\n",
      "1988-03-31    4595\n",
      "1988-06-30    4799\n",
      "1988-09-30    4417\n",
      "1988-12-31    4258\n",
      "1989-03-31    4245\n",
      "1989-06-30    4900\n",
      "1989-09-30    4585\n",
      "1989-12-31    4533\n",
      "dtype: int64\n"
     ]
    }
   ],
   "source": [
    "#time series line graphs, the index needs to be TIME (year, date, hour,  minute, quarter, etc.)\n",
    "#it's a 1-dimensional, specially indexed array   ↑\n",
    "\n",
    "shipments_df = shipments_df.iloc[0:, 1:2]\n",
    "#0 is the row, 1:2 is the  column. We want rows from 0 to the end, we only want columns 1 & 2\n",
    "\n",
    "date_range = pd.date_range(start ='1/1/1985', end ='12/31/1989', freq = 'Q')\n",
    "#were setting the range of dates based on the shipments between 1985 to 1989,  and we'll measure time by Quarters.\n",
    "\n",
    "shipments_df['Date'] = pd.to_datetime(date_range)\n",
    "#using the .Series function, we'll\n",
    "shipments_ts =pd.Series(shipments_df.Shipments.values, index = shipments_df.Date)\n",
    "print(shipments_ts)"
   ]
  },
  {
   "cell_type": "code",
   "execution_count": 31,
   "metadata": {},
   "outputs": [
    {
     "data": {
      "image/png": "[encoded data removed]",
      "text/plain": [
       "<Figure size 432x288 with 1 Axes>"
      ]
     },
     "metadata": {
      "needs_background": "light"
     },
     "output_type": "display_data"
    }
   ],
   "source": [
    "shipments_ts.plot(ylim= (3000,5500), legend = False)\n",
    "\n",
    "plt.xlabel('Quarter')\n",
    "plt.ylabel('Shipments (in million dollars)')\n",
    "plt.show()"
   ]
  },
  {
   "cell_type": "code",
   "execution_count": null,
   "metadata": {},
   "outputs": [],
   "source": []
  }
 ],
 "metadata": {
  "kernelspec": {
   "display_name": "Python 3 (ipykernel)",
   "language": "python",
   "name": "python3"
  },
  "language_info": {
   "codemirror_mode": {
    "name": "ipython",
    "version": 3
   },
   "file_extension": ".py",
   "mimetype": "text/x-python",
   "name": "python",
   "nbconvert_exporter": "python",
   "pygments_lexer": "ipython3",
   "version": "3.9.12"
  }
 },
 "nbformat": 4,
 "nbformat_minor": 4
}
