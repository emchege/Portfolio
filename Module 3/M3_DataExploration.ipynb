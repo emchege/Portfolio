{
 "cells": [
  {
   "cell_type": "markdown",
   "metadata": {},
   "source": [
    "# Module 3 In-Class Exercises: Data Exploration"
   ]
  },
  {
   "cell_type": "markdown",
   "metadata": {},
   "source": [
    "\n",
    "\n",
    "## Creating DataFrame "
   ]
  },
  {
   "cell_type": "markdown",
   "metadata": {},
   "source": [
    "1. Create a data frame from the following Age-Household Income table:\n",
    "\n",
    "          AGE             Income($)\n",
    "          25                49,000\n",
    "          56                156,000\n",
    "          65                99,000\n",
    "          32                192,000\n",
    "          41                39,000\n",
    "          49                57,000\n",
    "          "
   ]
  },
  {
   "cell_type": "code",
   "execution_count": 1,
   "metadata": {},
   "outputs": [
    {
     "name": "stdout",
     "output_type": "stream",
     "text": [
      "   Age  Income\n",
      "0   25   49000\n",
      "1   56  156000\n",
      "2   65   99000\n",
      "3   32  192000\n",
      "4   41   39000\n",
      "5   49   57000\n",
      "\n",
      "\n",
      " Age       int64\n",
      "Income    int64\n",
      "dtype: object\n"
     ]
    }
   ],
   "source": [
    "#a data frame is essentially a table\n",
    "#import required packages - pandas\n",
    "\n",
    "import pandas as pd\n",
    "\n",
    "#we'll use pd.DataFrame to create a table. put in the information with the column name\n",
    "#followed by a colon andits data in a list. both columns separated by a comma\n",
    "age_income = pd.DataFrame({'Age': [25,56,65,32,41,49], \n",
    "                           'Income':[49000,156000,99000,192000,39000,57000]})\n",
    "\n",
    "print(age_income)\n",
    "print('\\n\\n', age_income.dtypes)                          \n",
    "                           "
   ]
  },
  {
   "cell_type": "markdown",
   "metadata": {},
   "source": [
    "2. Import income.csv as a data frame. This file can be downloaded from Canvas."
   ]
  },
  {
   "cell_type": "code",
   "execution_count": 2,
   "metadata": {},
   "outputs": [
    {
     "name": "stdout",
     "output_type": "stream",
     "text": [
      "   Age  Income\n",
      "0   23  225000\n",
      "1   56   56000\n",
      "2   61   77000\n",
      "3   72  117000\n",
      "4   28   38000\n",
      "5   32   78000\n",
      "6   30   26000\n",
      "7   66  400000\n",
      "8   59   87000\n",
      "9   42   45000\n",
      "\n",
      "\n",
      " Age       int64\n",
      "Income    int64\n",
      "dtype: object\n"
     ]
    }
   ],
   "source": [
    "age_income1 = pd.read_csv(\"C:/Users/erwin/Desktop/MIS536/Module3Datasets/Module 3/income.csv\")\n",
    "\n",
    "print(age_income1)\n",
    "print('\\n\\n', age_income1.dtypes)"
   ]
  },
  {
   "cell_type": "markdown",
   "metadata": {},
   "source": [
    "3. Merge two data frames together."
   ]
  },
  {
   "cell_type": "code",
   "execution_count": 3,
   "metadata": {},
   "outputs": [
    {
     "name": "stdout",
     "output_type": "stream",
     "text": [
      "   Age  Income\n",
      "0   25   49000\n",
      "1   56  156000\n",
      "2   65   99000\n",
      "3   32  192000\n",
      "4   41   39000\n",
      "5   49   57000\n",
      "0   23  225000\n",
      "1   56   56000\n",
      "2   61   77000\n",
      "3   72  117000\n",
      "4   28   38000\n",
      "5   32   78000\n",
      "6   30   26000\n",
      "7   66  400000\n",
      "8   59   87000\n",
      "9   42   45000\n"
     ]
    }
   ],
   "source": [
    "income_list = []\n",
    "#the concat function requires that you have a list as it's parameter\n",
    "#so we make an empty list and append the two dataframes into it, then we concat\n",
    "\n",
    "income_list.append(age_income)\n",
    "income_list.append(age_income1)\n",
    "\n",
    "income = pd.concat(income_list)\n",
    "\n",
    "print(income)"
   ]
  },
  {
   "cell_type": "markdown",
   "metadata": {},
   "source": [
    "4. Import multiple files and merge them. Merge data from income1-4.csv to the existing data frame income"
   ]
  },
  {
   "cell_type": "code",
   "execution_count": 4,
   "metadata": {},
   "outputs": [
    {
     "name": "stdout",
     "output_type": "stream",
     "text": [
      "   Age  Income\n",
      "0   25   49000\n",
      "1   56  156000\n",
      "2   65   99000\n",
      "3   32  192000\n",
      "4   41   39000\n",
      "5   49   57000\n",
      "0   23  225000\n",
      "1   56   56000\n",
      "2   61   77000\n",
      "3   72  117000\n",
      "4   28   38000\n",
      "5   32   78000\n",
      "6   30   26000\n",
      "7   66  400000\n",
      "8   59   87000\n",
      "9   42   45000\n",
      "0   31   85000\n",
      "1   54  112000\n",
      "0   60  255000\n",
      "1   19   15000\n",
      "0   26   44000\n",
      "1   52   77000\n",
      "0   24   40000\n",
      "1   53   88000\n",
      "2   62   43000\n"
     ]
    }
   ],
   "source": [
    "import glob \n",
    "\n",
    "income_paths = glob.glob(\"C:/Users/erwin/Desktop/MIS536/Module3Datasets/Module 3/income?.csv\")\n",
    "\n",
    "for path in income_paths:\n",
    "    income_list.append(pd.read_csv(path))\n",
    "    \n",
    "income=pd.concat(income_list)\n",
    "\n",
    "print(income)\n"
   ]
  },
  {
   "cell_type": "code",
   "execution_count": 5,
   "metadata": {},
   "outputs": [
    {
     "name": "stdout",
     "output_type": "stream",
     "text": [
      "   Age  Income\n",
      "0   25   49000\n",
      "1   56  156000\n",
      "2   65   99000\n",
      "3   32  192000\n",
      "4   41   39000\n",
      "\n",
      "\n",
      "\n",
      "    Age  Income\n",
      "0   25   49000\n",
      "1   56  156000\n",
      "2   65   99000\n",
      "\n",
      "\n",
      "\n",
      "length of income: 25\n"
     ]
    }
   ],
   "source": [
    "#.head function returns the first n rows for the object based on position.\n",
    "# we're using it to separate the first few income columns\n",
    "\n",
    "print(income.head())\n",
    "\n",
    "print('\\n\\n\\n', income.head(3))\n",
    "\n",
    "print('\\n\\n\\nlength of income:', len(income))"
   ]
  },
  {
   "cell_type": "markdown",
   "metadata": {},
   "source": [
    "## Explore the dataset"
   ]
  },
  {
   "cell_type": "code",
   "execution_count": 6,
   "metadata": {},
   "outputs": [
    {
     "name": "stdout",
     "output_type": "stream",
     "text": [
      "<class 'pandas.core.frame.DataFrame'>\n",
      "Int64Index: 25 entries, 0 to 2\n",
      "Data columns (total 2 columns):\n",
      " #   Column  Non-Null Count  Dtype\n",
      "---  ------  --------------  -----\n",
      " 0   Age     25 non-null     int64\n",
      " 1   Income  25 non-null     int64\n",
      "dtypes: int64(2)\n",
      "memory usage: 600.0 bytes\n",
      "None\n",
      "\n",
      "\n",
      "Table dumensions(rows,columns) (25, 2)\n",
      "\n",
      "\n",
      "Describe the table:\n",
      "              Age         Income\n",
      "count  25.000000      25.000000\n",
      "mean   44.720000  100000.000000\n",
      "std    16.356752   87422.823107\n",
      "min    19.000000   15000.000000\n",
      "25%    30.000000   44000.000000\n",
      "50%    49.000000   77000.000000\n",
      "75%    59.000000  112000.000000\n",
      "max    72.000000  400000.000000\n",
      "\n",
      "\n",
      "Age Mean:\n",
      " 44.72\n",
      "\n",
      "\n",
      "Columns:\n",
      " Index(['Age', 'Income'], dtype='object')\n",
      "\n",
      "\n",
      "Value Count:\n",
      " 32    2\n",
      "56    2\n",
      "25    1\n",
      "42    1\n",
      "53    1\n",
      "24    1\n",
      "52    1\n",
      "26    1\n",
      "19    1\n",
      "60    1\n",
      "54    1\n",
      "31    1\n",
      "66    1\n",
      "59    1\n",
      "30    1\n",
      "28    1\n",
      "72    1\n",
      "61    1\n",
      "23    1\n",
      "49    1\n",
      "41    1\n",
      "65    1\n",
      "62    1\n",
      "Name: Age, dtype: int64\n"
     ]
    }
   ],
   "source": [
    "#dataframe.info method = showing a summary of the table\n",
    "print(income.info())\n",
    "\n",
    "#dataframe.shape shows how many rows and how many columns\n",
    "print('\\n\\nTable dumensions(rows,columns)', income.shape)\n",
    "\n",
    "#dataframe.describe = shows staistics of table: mean, min, count, std deviation, etc.\n",
    "print('\\n\\nDescribe the table:\\n', income.describe())\n",
    "\n",
    "#dataframe.column_name.mean = shows the mean of the specific column\n",
    "print('\\n\\nAge Mean:\\n', income.Age.mean())\n",
    "\n",
    "#dataframe.columns shoes the names of the columns in the dataframe\n",
    "print('\\n\\nColumns:\\n', income.columns)\n",
    "\n",
    "#dataframe.value_counts shows the exact number items in a column\n",
    "print('\\n\\nValue Count:\\n', income.Age.value_counts())"
   ]
  },
  {
   "cell_type": "markdown",
   "metadata": {},
   "source": [
    "## Data Partitioning"
   ]
  },
  {
   "cell_type": "markdown",
   "metadata": {},
   "source": [
    "1. Partition data frame income: training (60%) and validation (40%)"
   ]
  },
  {
   "cell_type": "code",
   "execution_count": 7,
   "metadata": {},
   "outputs": [
    {
     "name": "stdout",
     "output_type": "stream",
     "text": [
      "\n",
      "Training: (15, 2)\n",
      "\n",
      "\n",
      "\n",
      "    Age  Income\n",
      "0   26   44000\n",
      "0   23  225000\n",
      "1   56   56000\n",
      "0   24   40000\n",
      "1   56  156000\n",
      "0   31   85000\n",
      "0   25   49000\n",
      "9   42   45000\n",
      "2   62   43000\n",
      "1   53   88000\n",
      "3   72  117000\n",
      "2   61   77000\n",
      "6   30   26000\n",
      "5   32   78000\n",
      "5   49   57000\n"
     ]
    }
   ],
   "source": [
    "from sklearn.model_selection import train_test_split \n",
    "\n",
    "#we're splitting the data into two categories train & valid\n",
    "#we've sectioned data into train and from that we split 40% of it into valid\n",
    "\n",
    "income_train, income_valid=train_test_split(income, test_size=0.4, random_state=1)\n",
    "\n",
    "print(\"\\nTraining:\", income_train.shape) #show number of rows & columns\n",
    "print(\"\\n\\n\\n\", income_train) #show entire data set"
   ]
  },
  {
   "cell_type": "markdown",
   "metadata": {},
   "source": [
    "2. Partition data frame income: training (50%), validation (30%), and test(20%)"
   ]
  },
  {
   "cell_type": "code",
   "execution_count": 8,
   "metadata": {},
   "outputs": [
    {
     "name": "stdout",
     "output_type": "stream",
     "text": [
      "\n",
      "Training: (12, 2)\n",
      "\n",
      "\n",
      "\n",
      "    Age  Income\n",
      "0   24   40000\n",
      "1   56  156000\n",
      "0   31   85000\n",
      "0   25   49000\n",
      "9   42   45000\n",
      "2   62   43000\n",
      "1   53   88000\n",
      "3   72  117000\n",
      "2   61   77000\n",
      "6   30   26000\n",
      "5   32   78000\n",
      "5   49   57000\n",
      "\n",
      "Validity: (10, 2)\n",
      "\n",
      "\n",
      "\n",
      "    Age  Income\n",
      "8   59   87000\n",
      "7   66  400000\n",
      "1   54  112000\n",
      "3   32  192000\n",
      "1   52   77000\n",
      "4   28   38000\n",
      "0   60  255000\n",
      "1   19   15000\n",
      "4   41   39000\n",
      "2   65   99000\n",
      "\n",
      "Testing: (6, 2)\n",
      "\n",
      "\n",
      "\n",
      "    Age  Income\n",
      "1   54  112000\n",
      "3   32  192000\n",
      "1   52   77000\n",
      "0   26   44000\n",
      "7   66  400000\n",
      "0   60  255000\n"
     ]
    }
   ],
   "source": [
    "#50 % of all data is now in training\n",
    "income_train, temp=train_test_split(income, test_size=0.5, random_state=1) \n",
    "\n",
    "#20% of 100 is the same as 40% of 50. So of the amount of data left after\n",
    "#partitioning half of it for training, we put 40% of that into testing c\n",
    "income_value, income_test=train_test_split(temp, test_size=0.4, random_state=1)\n",
    "\n",
    "print(\"\\nTraining:\", income_train.shape) \n",
    "print(\"\\n\\n\\n\", income_train)\n",
    "\n",
    "print(\"\\nValidity:\", income_valid.shape) #show number of rows & columns\n",
    "print(\"\\n\\n\\n\", income_valid)\n",
    "\n",
    "print(\"\\nTesting:\", income_test.shape) #show number of rows & columns\n",
    "print(\"\\n\\n\\n\", income_test)"
   ]
  },
  {
   "cell_type": "code",
   "execution_count": null,
   "metadata": {},
   "outputs": [],
   "source": []
  }
 ],
 "metadata": {
  "kernelspec": {
   "display_name": "Python 3 (ipykernel)",
   "language": "python",
   "name": "python3"
  },
  "language_info": {
   "codemirror_mode": {
    "name": "ipython",
    "version": 3
   },
   "file_extension": ".py",
   "mimetype": "text/x-python",
   "name": "python",
   "nbconvert_exporter": "python",
   "pygments_lexer": "ipython3",
   "version": "3.9.12"
  }
 },
 "nbformat": 4,
 "nbformat_minor": 4
}
