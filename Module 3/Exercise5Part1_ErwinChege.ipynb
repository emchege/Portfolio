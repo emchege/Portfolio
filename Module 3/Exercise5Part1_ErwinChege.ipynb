{
 "cells": [
  {
   "cell_type": "markdown",
   "id": "35ab482e-af1a-45aa-884a-56515b7d7a72",
   "metadata": {},
   "source": [
    "Erwin Chege\n",
    "\n",
    "Exercise 05 Part 1\n",
    "\n",
    "Description: Inside a jupyter lab code cell, create a program that asks the user for how many Chuck Norris jokes they would like. If the user doesn't enter a valid integer, re-ask them for the input. Once the user has provided a valid positive integer, then use the Chuck Norris webAPI to get the number of jokes requested (note: use a for loop)."
   ]
  },
  {
   "cell_type": "code",
   "execution_count": 73,
   "id": "444df6cb-0969-4a69-a523-f4a33f7588a9",
   "metadata": {},
   "outputs": [
    {
     "name": "stdin",
     "output_type": "stream",
     "text": [
      "How many Chuck Norris jokes would you like? 0\n",
      "please enter a positive integer -1\n",
      "please enter a positive integer five\n",
      "please enter a positive integer 5\n"
     ]
    },
    {
     "name": "stdout",
     "output_type": "stream",
     "text": [
      "______________\n",
      "Chuck Norris doesn't get flu shots because he nevers gets sick.\n",
      "______________\n",
      "Most kids where superman pajamas. Superman, however, wears Chuck Norris pajamas\n",
      "______________\n",
      "Chuck Norris has licked his elbow twice\n",
      "______________\n",
      "Chuck Norris personally knows every SI swimsuit model. He should -- he banged each one of them.\n",
      "______________\n",
      "Chuck Norris always give more bang for your buck. In other words, he will roundhouse kick you in the face, then take your wallet.\n"
     ]
    }
   ],
   "source": [
    "import requests\n",
    "\n",
    "f = r\"https://api.chucknorris.io/jokes/random\"\n",
    "ask = ' '\n",
    "\n",
    "ask = input(\"How many Chuck Norris jokes would you like?\")\n",
    "\n",
    "if ask == 0 or '0': \n",
    "    ask = input(\"please enter a positive integer\")\n",
    "    \n",
    "while not ask.isdigit():\n",
    "    ask = input(\"please enter a positive integer\")\n",
    "\n",
    "for i in range(int(ask)):\n",
    "    response = requests.get(f)\n",
    "    data_struct = json.loads(response.text)\n",
    "    print('______________')\n",
    "    print(data_struct[\"value\"])\n",
    "    \n"
   ]
  },
  {
   "cell_type": "code",
   "execution_count": null,
   "id": "4fc9ddac-6654-4ef2-9302-4f4f153e86d7",
   "metadata": {},
   "outputs": [],
   "source": []
  },
  {
   "cell_type": "code",
   "execution_count": null,
   "id": "f7e80401-4957-45c9-aefb-7e84da8dd8a9",
   "metadata": {},
   "outputs": [],
   "source": []
  }
 ],
 "metadata": {
  "kernelspec": {
   "display_name": "Python 3 (ipykernel)",
   "language": "python",
   "name": "python3"
  },
  "language_info": {
   "codemirror_mode": {
    "name": "ipython",
    "version": 3
   },
   "file_extension": ".py",
   "mimetype": "text/x-python",
   "name": "python",
   "nbconvert_exporter": "python",
   "pygments_lexer": "ipython3",
   "version": "3.9.12"
  }
 },
 "nbformat": 4,
 "nbformat_minor": 5
}
