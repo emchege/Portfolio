{
 "cells": [
  {
   "cell_type": "markdown",
   "metadata": {},
   "source": [
    "# Module 5 In-Class Exercises: k-Nearest Neighbors (k-NN)"
   ]
  },
  {
   "cell_type": "markdown",
   "metadata": {},
   "source": [
    "### In this exerices, we are going to conudct k-Nearest Neighbors classification using sklearn KNeigborsClassifier package.\n"
   ]
  },
  {
   "cell_type": "code",
   "execution_count": 1,
   "metadata": {},
   "outputs": [],
   "source": [
    "# import required packages for this chapter\n",
    "\n",
    "import pandas as pd\n",
    "from sklearn import preprocessing\n",
    "from sklearn.model_selection import train_test_split\n",
    "import matplotlib.pyplot as plt\n",
    "from sklearn.neighbors import KNeighborsClassifier\n"
   ]
  },
  {
   "cell_type": "markdown",
   "metadata": {},
   "source": [
    "## Pima Indians Diabetes\n"
   ]
  },
  {
   "cell_type": "raw",
   "metadata": {},
   "source": [
    "This dataset is originally from the National Institute of Diabetes and Digestive and Kidney Diseases. The objective of the dataset is to diagnostically predict whether or not a patient has diabetes, based on certain diagnostic measurements included in the dataset. Several constraints were placed on the selection of these instances from a larger database. In particular, all patients here are females at least 21 years old of Pima Indian heritage.\n",
    "\n",
    "The datasets consists of several medical predictor variables and one target variable, Outcome. Predictor variables includes the number of pregnancies the patient has had, their BMI, insulin level, age, and so on.\n",
    "\n",
    "Pregnancies: number of times pregnant\n",
    "Glucose: Plasma glucose concentration a 2 hours in an oral glucose tolerance test\n",
    "BloodPressure:Diastolic blood pressure (mm Hg)\n",
    "SkinThickness: triceps skin fold thickness (mm)\n",
    "Insulin: 2-hour serum insulin (mu U/ml)\n",
    "BMI: Body mass index (weight in kg/(height in m)^2)\n",
    "DiabetesPedigree: Diabetes pedigree function\n",
    "Age: Age in years\n",
    "Outcome: Class variabe (0 or 1)\n",
    "\n",
    "The dataset we used in this exercise, diabetes.csv is download from Kaggle.\n",
    "\n"
   ]
  },
  {
   "cell_type": "code",
   "execution_count": 2,
   "metadata": {},
   "outputs": [
    {
     "name": "stdout",
     "output_type": "stream",
     "text": [
      "   Pregnancies  Glucose  BloodPressure  SkinThickness  Insulin   BMI  \\\n",
      "0            6    148.0           72.0           35.0      NaN  33.6   \n",
      "1            1     85.0           66.0           29.0      NaN  26.6   \n",
      "2            8    183.0           64.0            NaN      NaN  23.3   \n",
      "3            1     89.0           66.0           23.0     94.0  28.1   \n",
      "4            0    137.0           40.0           35.0    168.0  43.1   \n",
      "\n",
      "   DiabetesPedigreeFunction  Age  Outcome  \n",
      "0                     0.627   50        1  \n",
      "1                     0.351   31        0  \n",
      "2                     0.672   32        1  \n",
      "3                     0.167   21        0  \n",
      "4                     2.288   33        1  \n",
      "\n",
      " (768, 9)\n",
      "\n",
      " Pregnancies                 768\n",
      "Glucose                     763\n",
      "BloodPressure               733\n",
      "SkinThickness               541\n",
      "Insulin                     394\n",
      "BMI                         757\n",
      "DiabetesPedigreeFunction    768\n",
      "Age                         768\n",
      "Outcome                     768\n",
      "dtype: int64\n",
      "\n",
      "        Pregnancies     Glucose  BloodPressure  SkinThickness     Insulin  \\\n",
      "count   768.000000  763.000000     733.000000     541.000000  394.000000   \n",
      "mean      3.845052  121.686763      72.405184      29.153420  155.548223   \n",
      "std       3.369578   30.535641      12.382158      10.476982  118.775855   \n",
      "min       0.000000   44.000000      24.000000       7.000000   14.000000   \n",
      "25%       1.000000   99.000000      64.000000      22.000000   76.250000   \n",
      "50%       3.000000  117.000000      72.000000      29.000000  125.000000   \n",
      "75%       6.000000  141.000000      80.000000      36.000000  190.000000   \n",
      "max      17.000000  199.000000     122.000000      99.000000  846.000000   \n",
      "\n",
      "              BMI  DiabetesPedigreeFunction         Age     Outcome  \n",
      "count  757.000000                768.000000  768.000000  768.000000  \n",
      "mean    32.457464                  0.471876   33.240885    0.348958  \n",
      "std      6.924988                  0.331329   11.760232    0.476951  \n",
      "min     18.200000                  0.078000   21.000000    0.000000  \n",
      "25%     27.500000                  0.243750   24.000000    0.000000  \n",
      "50%     32.300000                  0.372500   29.000000    0.000000  \n",
      "75%     36.600000                  0.626250   41.000000    1.000000  \n",
      "max     67.100000                  2.420000   81.000000    1.000000  \n"
     ]
    }
   ],
   "source": [
    "# create dataframe diabetes_df from diabetes.csv. This file can be downloaded from Canvas.\n",
    "\n",
    "diabetes_df = pd.read_csv(\"C:/Users/erwin/Desktop/HW/diabetes.csv\")\n",
    "\n",
    "print(diabetes_df.head())\n",
    "print(\"\\n\",diabetes_df.shape)\n",
    "print(\"\\n\",diabetes_df.count())\n",
    "print(\"\\n\",diabetes_df.describe())\n",
    "\n",
    "# we can see that there are several missing values and a few other ways to clean up the data"
   ]
  },
  {
   "cell_type": "code",
   "execution_count": 3,
   "metadata": {},
   "outputs": [
    {
     "name": "stdout",
     "output_type": "stream",
     "text": [
      "Pregnancies                 733\n",
      "Glucose                     728\n",
      "BloodPressure               731\n",
      "SkinThickness               541\n",
      "Insulin                     394\n",
      "BMI                         731\n",
      "DiabetesPedigreeFunction    733\n",
      "Age                         733\n",
      "Outcome                     733\n",
      "dtype: int64\n",
      "(733, 9)\n"
     ]
    }
   ],
   "source": [
    "# we're going to clean the data a bit. Starting with dropping the empty datacells. we're going to arbitrarily keep the rows with less than 2 missing values.\n",
    "\n",
    "diabetes_df = diabetes_df.dropna(thresh = len(diabetes_df.columns)-2)\n",
    "print (diabetes_df.count())\n",
    "print(diabetes_df.shape)"
   ]
  },
  {
   "cell_type": "code",
   "execution_count": 4,
   "metadata": {},
   "outputs": [
    {
     "name": "stdout",
     "output_type": "stream",
     "text": [
      "Pregnancies                 733\n",
      "Glucose                     733\n",
      "BloodPressure               733\n",
      "SkinThickness               733\n",
      "Insulin                     733\n",
      "BMI                         733\n",
      "DiabetesPedigreeFunction    733\n",
      "Age                         733\n",
      "Outcome                     733\n",
      "dtype: int64\n",
      "(733, 9)\n"
     ]
    }
   ],
   "source": [
    "# it looks like Glucose is missing some data points. We can fix that by replacing the missing data with the mean of the entire column\n",
    "diabetes_df['Glucose'].fillna(diabetes_df['Glucose'].mean(), inplace = True)\n",
    "\n",
    "# lets now do the same with the other columns that have missing data points. \n",
    "\n",
    "diabetes_df['BloodPressure'].fillna(diabetes_df['BloodPressure'].mean(), inplace = True)\n",
    "diabetes_df['SkinThickness'].fillna(diabetes_df['SkinThickness'].mean(), inplace = True)\n",
    "diabetes_df['Insulin'].fillna(diabetes_df['Insulin'].mean(), inplace = True)\n",
    "diabetes_df['BMI'].fillna(diabetes_df['BMI'].mean(), inplace = True)\n",
    "\n",
    "print(diabetes_df.count())\n",
    "print(diabetes_df.shape)"
   ]
  },
  {
   "cell_type": "code",
   "execution_count": 5,
   "metadata": {},
   "outputs": [
    {
     "name": "stdout",
     "output_type": "stream",
     "text": [
      "Training set:  (586, 9) Validation set:  (147, 9)\n"
     ]
    }
   ],
   "source": [
    "#now that the data is clean, let's split it (80 percent in training set, 20 percent in validation set. 80/20 is an arbitrary choice, but the more training data,\n",
    "#the closer your estimates are real sample data\n",
    "\n",
    "train_df, valid_df = train_test_split(diabetes_df, test_size = 0.2, random_state = 10)\n",
    "print('Training set: ', train_df.shape, 'Validation set: ', valid_df.shape)"
   ]
  },
  {
   "cell_type": "code",
   "execution_count": 6,
   "metadata": {},
   "outputs": [
    {
     "name": "stdout",
     "output_type": "stream",
     "text": [
      "[[ 0.35821254  0.28847142  0.7630885  ...  0.92564715  1.36561741\n",
      "   0.34519018]\n",
      " [-0.52999289 -1.01922408 -0.1972522  ... -0.76942196 -1.1567077\n",
      "  -0.94596799]\n",
      " [ 1.83855493  0.02693232 -0.35730899 ... -0.20918726 -0.65571775\n",
      "   0.68949903]\n",
      " ...\n",
      " [-0.82606137 -1.08460885 -0.83747934 ... -0.39593216 -0.18079086\n",
      "  -0.85989078]\n",
      " [-0.23392441  1.59616692 -0.67742256 ...  0.2648575  -0.37191998\n",
      "  -0.2573503 ]\n",
      " [-1.12212985 -0.56153065 -0.67742256 ... -0.697597   -0.0881222\n",
      "  -0.85989078]] [[ 0.65428102  0.05962471 -0.03719542 ...  0.13557256  0.71983268\n",
      "   0.08695855]\n",
      " [ 0.35821254  1.46539737  0.28291815 ...  1.87373665 -0.41825431\n",
      "  -0.51558193]\n",
      " [ 1.24641798 -0.39806872  0.28291815 ... -0.68323201  0.45051439\n",
      "  -0.17127309]\n",
      " ...\n",
      " [ 0.65428102 -0.9538393  -0.83747934 ... -0.09426732 -1.1567077\n",
      "   1.11988508]\n",
      " [-0.52999289 -0.49614588 -1.3176497  ... -0.52521709 -0.16920728\n",
      "  -0.94596799]\n",
      " [ 0.35821254 -1.57499467 -0.99753613 ... -0.84124692 -0.62675879\n",
      "  -0.51558193]]\n"
     ]
    }
   ],
   "source": [
    "# first we'll partition the dataset into two parts, predictors(X) & outcome (Y)\n",
    "outcome = 'Outcome'\n",
    "predictors = list(train_df.columns) #get everything from the training dataset & then remove everything from the outcome column\n",
    "predictors.remove(outcome)\n",
    "\n",
    "scaler = preprocessing.StandardScaler()\n",
    "scaler.fit(train_df[predictors])\n",
    "\n",
    "train_X = scaler.transform(train_df[predictors])\n",
    "valid_X = scaler.transform(valid_df[predictors])\n",
    "\n",
    "train_y = train_df[outcome]\n",
    "valid_y = valid_df[outcome]\n",
    "\n",
    "print(train_X, valid_X) #they're no longer dataframes, they're arrays. So we cant use the .head function"
   ]
  },
  {
   "cell_type": "code",
   "execution_count": 7,
   "metadata": {},
   "outputs": [
    {
     "data": {
      "image/png": "[encoded data removed]",
      "text/plain": [
       "<Figure size 432x288 with 1 Axes>"
      ]
     },
     "metadata": {
      "needs_background": "light"
     },
     "output_type": "display_data"
    }
   ],
   "source": [
    "# we want to make a k-nearest classifier, so we need to find out what the k should be.\n",
    "\n",
    "#lets make a model to find the optimal k value to get the best classification accuracy\n",
    "\n",
    "k_list = range(1,101,1) #we'll pick a number between 1 & 100, incrementing by 1\n",
    "\n",
    "accuracies = [] #we'll store the accuracies into this empty array\n",
    "\n",
    "for k in k_list: #next we'll make a for loop and inside it we'll make classifiers\n",
    "    classifier = KNeighborsClassifier(n_neighbors = k)\n",
    "    classifier.fit(train_X, train_y)\n",
    "    accuracies.append(classifier.score(valid_X, valid_y))\n",
    "    \n",
    "#for every k ranging from 1 to 100, we'll build a classifier, fit the dataset into the classifier, and calculate the performance score/accuracy for each.\n",
    "#we'll then store each score in the accuracy array.\n",
    "\n",
    "#Next the easiest thing to do is plot the information into a graph\n",
    "\n",
    "plt.plot(k_list, accuracies) #x is the range in k-list, y is the accuracy value\n",
    "plt.xlabel(\"k\")\n",
    "plt.ylabel(\"Validation Accuracy\")\n",
    "plt.title(\"Pima Indians Diabetes Classifier Accuracy\")\n",
    "plt.show()"
   ]
  },
  {
   "cell_type": "code",
   "execution_count": 8,
   "metadata": {},
   "outputs": [
    {
     "data": {
      "image/png": "[encoded data removed]",
      "text/plain": [
       "<Figure size 432x288 with 1 Axes>"
      ]
     },
     "metadata": {
      "needs_background": "light"
     },
     "output_type": "display_data"
    },
    {
     "name": "stdout",
     "output_type": "stream",
     "text": [
      "0.7482993197278912 0.7619047619047619 0.7619047619047619\n"
     ]
    }
   ],
   "source": [
    "plt.plot(k_list, accuracies) #x is the range in k-list, y is the accuracy value\n",
    "plt.xlim([10,32]) #we want to take a look at the range of accuracies between 10 - 32 as it seems there's a high accuracy there\n",
    "plt.xlabel(\"k\")\n",
    "plt.ylabel(\"Validation Accuracy\")\n",
    "plt.title(\"Pima Indians Diabetes Classifier Accuracy\")\n",
    "plt.show()\n",
    "\n",
    "\n",
    "print(accuracies[21],accuracies[23],accuracies[31])\n",
    "\n",
    "#it seems like these three accuracies are the most accurate. Since 31 & 23 are the most accurate we'll pick the lower one of the two to prevent underfitting.\n",
    "\n",
    "#k = 23"
   ]
  },
  {
   "cell_type": "markdown",
   "metadata": {},
   "source": [
    "Consider the following person:\n",
    "\n",
    "Pregnancies=3, Glucose=120 ,BloodPressure=72, SkinThickness = 20, Insulin = 84, BMI = 26.2, DiabetesPedigree = 0.267, and Age = 30.  How would this customer be classified?\n"
   ]
  },
  {
   "cell_type": "code",
   "execution_count": 9,
   "metadata": {},
   "outputs": [
    {
     "name": "stdout",
     "output_type": "stream",
     "text": [
      "   Pregnancies  Glucose  BloodPressure  SkinThickness  Insulin   BMI  \\\n",
      "0            3      120             72             20       84  26.2   \n",
      "\n",
      "   DiabetesPedigree  Age  \n",
      "0             0.267   30  \n"
     ]
    }
   ],
   "source": [
    "newpatient = pd.DataFrame([{'Pregnancies': 3, 'Glucose': 120, 'BloodPressure': 72, 'SkinThickness': 20, 'Insulin': 84, 'BMI': 26.2, 'DiabetesPedigree': 0.267, 'Age': 30}],\n",
    "                         columns=['Pregnancies','Glucose','BloodPressure','SkinThickness','Insulin','BMI','DiabetesPedigree','Age'])\n",
    "\n",
    "print(newpatient)\n",
    "\n",
    "#put the new patient into a dataframe and then scale it"
   ]
  },
  {
   "cell_type": "code",
   "execution_count": 10,
   "metadata": {},
   "outputs": [
    {
     "name": "stdout",
     "output_type": "stream",
     "text": [
      "   Pregnancies   Glucose  BloodPressure  SkinThickness   Insulin       BMI  \\\n",
      "0    -0.233924 -0.038452      -0.037195      -0.959693 -0.791716 -0.927437   \n",
      "\n",
      "   DiabetesPedigree      Age  \n",
      "0         -0.629655 -0.25735  \n"
     ]
    },
    {
     "name": "stderr",
     "output_type": "stream",
     "text": [
      "C:\\Users\\erwin\\anaconda3\\lib\\site-packages\\sklearn\\base.py:493: FutureWarning: The feature names should match those that were passed during fit. Starting version 1.2, an error will be raised.\n",
      "Feature names unseen at fit time:\n",
      "- DiabetesPedigree\n",
      "Feature names seen at fit time, yet now missing:\n",
      "- DiabetesPedigreeFunction\n",
      "\n",
      "  warnings.warn(message, FutureWarning)\n"
     ]
    }
   ],
   "source": [
    "newpatient = pd.DataFrame(scaler.transform(newpatient), columns=newpatient.columns)\n",
    "print(newpatient)"
   ]
  },
  {
   "cell_type": "code",
   "execution_count": 11,
   "metadata": {},
   "outputs": [
    {
     "name": "stdout",
     "output_type": "stream",
     "text": [
      "[0]\n",
      "[[0.91304348 0.08695652]]\n"
     ]
    },
    {
     "name": "stderr",
     "output_type": "stream",
     "text": [
      "C:\\Users\\erwin\\anaconda3\\lib\\site-packages\\sklearn\\base.py:443: UserWarning: X has feature names, but KNeighborsClassifier was fitted without feature names\n",
      "  warnings.warn(\n",
      "C:\\Users\\erwin\\anaconda3\\lib\\site-packages\\sklearn\\base.py:443: UserWarning: X has feature names, but KNeighborsClassifier was fitted without feature names\n",
      "  warnings.warn(\n"
     ]
    }
   ],
   "source": [
    "classifier_new = KNeighborsClassifier(n_neighbors=23)\n",
    "#after building your classifier, fit it with the training data\n",
    "classifier_new.fit(train_X, train_y)\n",
    "\n",
    "print(classifier_new.predict(newpatient))\n",
    "print(classifier_new.predict_proba(newpatient))\n",
    "\n",
    "#based on the results, the patient does not have diabetes (0 instead of 1).\n",
    "#around 91% of the neighbors do not have diabetes, 9% of the neighbors do have diabetes."
   ]
  },
  {
   "cell_type": "code",
   "execution_count": null,
   "metadata": {},
   "outputs": [],
   "source": []
  },
  {
   "cell_type": "code",
   "execution_count": null,
   "metadata": {},
   "outputs": [],
   "source": []
  }
 ],
 "metadata": {
  "kernelspec": {
   "display_name": "Python 3 (ipykernel)",
   "language": "python",
   "name": "python3"
  },
  "language_info": {
   "codemirror_mode": {
    "name": "ipython",
    "version": 3
   },
   "file_extension": ".py",
   "mimetype": "text/x-python",
   "name": "python",
   "nbconvert_exporter": "python",
   "pygments_lexer": "ipython3",
   "version": "3.9.12"
  }
 },
 "nbformat": 4,
 "nbformat_minor": 4
}
