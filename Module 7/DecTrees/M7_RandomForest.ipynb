{
 "cells": [
  {
   "cell_type": "markdown",
   "metadata": {},
   "source": [
    "## Random Forest\n"
   ]
  },
  {
   "cell_type": "code",
   "execution_count": 1,
   "metadata": {},
   "outputs": [],
   "source": [
    "# import packages\n",
    "import pandas as pd\n",
    "from sklearn.model_selection import train_test_split\n",
    "from sklearn.ensemble import RandomForestClassifier"
   ]
  },
  {
   "cell_type": "markdown",
   "metadata": {},
   "source": [
    "\n",
    "## Predicting Income with Random Forests\n",
    "\n",
    "In this project, we will be using a dataset containing census information from [UCI's Machine Learning Repository](https://archive.ics.uci.edu/ml/datasets/census+income).\n",
    "By using this census data with a random forest, we will try to predict whether or not a person income using the following variables: age, sex, capital-gain, capital-loss, hours-per-week.\n",
    "Let's get started!"
   ]
  },
  {
   "cell_type": "markdown",
   "metadata": {},
   "source": [
    "We want to get all of that data into a Pandas DataFrame. Use the `pd.read_csv()` function using `\"income.csv\"` as a parameter and store the result in a variable named `income_data`. There's a small problem with our data that is a little hard to catch — every string has an extra space at the start. For example, the first row's `native-country` is `\" United-States\"`."
   ]
  },
  {
   "cell_type": "code",
   "execution_count": 2,
   "metadata": {},
   "outputs": [],
   "source": [
    "# read the income.csv file \n",
    "\n",
    "income_df = pd.read_csv(\"C:/Users/erwin/Desktop/MIS536/Module 7/DecTrees/income.csv\", engine = 'python', delimiter = \", \")\n",
    "\n",
    "#the engine=python, delimeter=\", \" is a way to clean data before it's put into a dataframe. \n",
    "#There's a space before each entry in the dataframe that we don't want, so we removed the commas and the spaces.\n",
    "#we included commas, because we have to include all delimeters we want to ignore when putting them into a dataframe. It's a comma separated value (CSV) file, so we had to mention it.\n"
   ]
  },
  {
   "cell_type": "code",
   "execution_count": 3,
   "metadata": {},
   "outputs": [
    {
     "name": "stdout",
     "output_type": "stream",
     "text": [
      "   age         workclass  fnlwgt  education  education-num  \\\n",
      "0   39         State-gov   77516  Bachelors             13   \n",
      "1   50  Self-emp-not-inc   83311  Bachelors             13   \n",
      "2   38           Private  215646    HS-grad              9   \n",
      "3   53           Private  234721       11th              7   \n",
      "4   28           Private  338409  Bachelors             13   \n",
      "\n",
      "       marital-status         occupation   relationship   race     sex  \\\n",
      "0       Never-married       Adm-clerical  Not-in-family  White    Male   \n",
      "1  Married-civ-spouse    Exec-managerial        Husband  White    Male   \n",
      "2            Divorced  Handlers-cleaners  Not-in-family  White    Male   \n",
      "3  Married-civ-spouse  Handlers-cleaners        Husband  Black    Male   \n",
      "4  Married-civ-spouse     Prof-specialty           Wife  Black  Female   \n",
      "\n",
      "   capital-gain  capital-loss  hours-per-week native-country income  \n",
      "0          2174             0              40  United-States  <=50K  \n",
      "1             0             0              13  United-States  <=50K  \n",
      "2             0             0              40  United-States  <=50K  \n",
      "3             0             0              40  United-States  <=50K  \n",
      "4             0             0              40           Cuba  <=50K  \n",
      "Index(['age', 'workclass', 'fnlwgt', 'education', 'education-num',\n",
      "       'marital-status', 'occupation', 'relationship', 'race', 'sex',\n",
      "       'capital-gain', 'capital-loss', 'hours-per-week', 'native-country',\n",
      "       'income'],\n",
      "      dtype='object')\n",
      "(32561, 15)\n",
      "<bound method NDFrame.describe of        age         workclass  fnlwgt   education  education-num  \\\n",
      "0       39         State-gov   77516   Bachelors             13   \n",
      "1       50  Self-emp-not-inc   83311   Bachelors             13   \n",
      "2       38           Private  215646     HS-grad              9   \n",
      "3       53           Private  234721        11th              7   \n",
      "4       28           Private  338409   Bachelors             13   \n",
      "...    ...               ...     ...         ...            ...   \n",
      "32556   27           Private  257302  Assoc-acdm             12   \n",
      "32557   40           Private  154374     HS-grad              9   \n",
      "32558   58           Private  151910     HS-grad              9   \n",
      "32559   22           Private  201490     HS-grad              9   \n",
      "32560   52      Self-emp-inc  287927     HS-grad              9   \n",
      "\n",
      "           marital-status         occupation   relationship   race     sex  \\\n",
      "0           Never-married       Adm-clerical  Not-in-family  White    Male   \n",
      "1      Married-civ-spouse    Exec-managerial        Husband  White    Male   \n",
      "2                Divorced  Handlers-cleaners  Not-in-family  White    Male   \n",
      "3      Married-civ-spouse  Handlers-cleaners        Husband  Black    Male   \n",
      "4      Married-civ-spouse     Prof-specialty           Wife  Black  Female   \n",
      "...                   ...                ...            ...    ...     ...   \n",
      "32556  Married-civ-spouse       Tech-support           Wife  White  Female   \n",
      "32557  Married-civ-spouse  Machine-op-inspct        Husband  White    Male   \n",
      "32558             Widowed       Adm-clerical      Unmarried  White  Female   \n",
      "32559       Never-married       Adm-clerical      Own-child  White    Male   \n",
      "32560  Married-civ-spouse    Exec-managerial           Wife  White  Female   \n",
      "\n",
      "       capital-gain  capital-loss  hours-per-week native-country income  \n",
      "0              2174             0              40  United-States  <=50K  \n",
      "1                 0             0              13  United-States  <=50K  \n",
      "2                 0             0              40  United-States  <=50K  \n",
      "3                 0             0              40  United-States  <=50K  \n",
      "4                 0             0              40           Cuba  <=50K  \n",
      "...             ...           ...             ...            ...    ...  \n",
      "32556             0             0              38  United-States  <=50K  \n",
      "32557             0             0              40  United-States   >50K  \n",
      "32558             0             0              40  United-States  <=50K  \n",
      "32559             0             0              20  United-States  <=50K  \n",
      "32560         15024             0              40  United-States   >50K  \n",
      "\n",
      "[32561 rows x 15 columns]>\n"
     ]
    }
   ],
   "source": [
    "# Explore the dataset\n",
    "# read the first row of the dataset \n",
    "print(income_df.head())\n",
    "print(income_df.columns)\n",
    "print(income_df.shape)\n",
    "print(income_df.describe)"
   ]
  },
  {
   "cell_type": "code",
   "execution_count": 4,
   "metadata": {},
   "outputs": [
    {
     "name": "stdout",
     "output_type": "stream",
     "text": [
      "int32\n"
     ]
    }
   ],
   "source": [
    "# clean the datast: sex is not numeric.\n",
    "\n",
    "income_df.sex = income_df.sex.replace(\"Male\",\"0\", regex = True)\n",
    "income_df.sex = income_df.sex.replace(\"Female\",\"1\", regex = True).astype(int)\n",
    "\n",
    "print(income_df.sex.dtypes)"
   ]
  },
  {
   "cell_type": "code",
   "execution_count": 5,
   "metadata": {},
   "outputs": [
    {
     "name": "stdout",
     "output_type": "stream",
     "text": [
      "   age  sex  capital-gain  capital-loss  hours-per-week\n",
      "0   39    0          2174             0              40\n",
      "1   50    0             0             0              13\n",
      "2   38    0             0             0              40\n",
      "3   53    0             0             0              40\n",
      "4   28    1             0             0              40 \n",
      " 0    <=50K\n",
      "1    <=50K\n",
      "2    <=50K\n",
      "3    <=50K\n",
      "4    <=50K\n",
      "Name: income, dtype: object\n"
     ]
    }
   ],
   "source": [
    "# construct datasets for analysis\n",
    "\n",
    "X=income_df[[\"age\",\"sex\",\"capital-gain\",\"capital-loss\",\"hours-per-week\"]]\n",
    "y=income_df[\"income\"]\n",
    "\n",
    "print(X.head(),\"\\n\",y.head())"
   ]
  },
  {
   "cell_type": "code",
   "execution_count": 6,
   "metadata": {},
   "outputs": [
    {
     "name": "stdout",
     "output_type": "stream",
     "text": [
      "(26048, 5)\n"
     ]
    }
   ],
   "source": [
    "# create the training set and the test set \n",
    "training_X, valid_X, training_y,valid_y = train_test_split(X,y,test_size =0.2, random_state = 1)\n",
    "\n",
    "print(training_X.shape)"
   ]
  },
  {
   "cell_type": "code",
   "execution_count": 11,
   "metadata": {},
   "outputs": [],
   "source": [
    "# create the random forest\n",
    "# random_state: Controls both the randomness of the bootstrapping of the samples used when building trees\n",
    "# n_estimator: the number of trees in the forest. default is 100\n",
    "# max_feature: the number of features to consider when looking for the best split: default is sqrt(n) \n",
    "###n being the number of predictors, n = 5 in this case, so the max_feature will be the sqr root of 5 \n",
    "\n",
    "forest = RandomForestClassifier(random_state=5, n_estimators = 101, max_features = \"sqrt\")\n"
   ]
  },
  {
   "cell_type": "code",
   "execution_count": 12,
   "metadata": {},
   "outputs": [
    {
     "name": "stdout",
     "output_type": "stream",
     "text": [
      "0.8248119146322739\n"
     ]
    }
   ],
   "source": [
    "# train the forest \n",
    "forest.fit(training_X, training_y)\n",
    "print(forest.score(valid_X, valid_y))"
   ]
  },
  {
   "cell_type": "code",
   "execution_count": 15,
   "metadata": {},
   "outputs": [
    {
     "name": "stdout",
     "output_type": "stream",
     "text": [
      "age :  0.2970407841838787\n",
      "sex :  0.065691390765117\n",
      "capital-gain :  0.31013913967352197\n",
      "capital-loss :  0.12435212759803446\n",
      "hours-per-week :  0.2027765577794479\n"
     ]
    }
   ],
   "source": [
    "# Which features tend to be more relevant?\n",
    "importances = forest.feature_importances_\n",
    "\n",
    "for i in range(len(importances)):\n",
    "    print(valid_X.columns[i], \": \", importances[i])\n",
    "    \n"
   ]
  },
  {
   "cell_type": "code",
   "execution_count": null,
   "metadata": {},
   "outputs": [],
   "source": [
    "###based on the results, the most relevant features are \"age\", and \"capital gain\""
   ]
  }
 ],
 "metadata": {
  "kernelspec": {
   "display_name": "Python 3 (ipykernel)",
   "language": "python",
   "name": "python3"
  },
  "language_info": {
   "codemirror_mode": {
    "name": "ipython",
    "version": 3
   },
   "file_extension": ".py",
   "mimetype": "text/x-python",
   "name": "python",
   "nbconvert_exporter": "python",
   "pygments_lexer": "ipython3",
   "version": "3.9.12"
  }
 },
 "nbformat": 4,
 "nbformat_minor": 4
}
